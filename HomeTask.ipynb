{
 "cells": [
  {
   "cell_type": "code",
   "execution_count": 45,
   "id": "7ebc8cfb-2477-4291-a31e-ce58e26c8e82",
   "metadata": {},
   "outputs": [
    {
     "name": "stdout",
     "output_type": "stream",
     "text": [
      "Months of the Year: ['January', 'February', 'March', 'April', 'May', 'June', 'July', 'August', 'September', 'October', 'November', 'December']\n",
      "Months with 31 Days: ['January', 'March', 'May', 'July', 'August', 'October', 'December']\n",
      "Months with 30+ Days (excluding February): ['January', 'March', 'April', 'May', 'June', 'July', 'August', 'September', 'October', 'November', 'December']\n"
     ]
    }
   ],
   "source": [
    "#Declaring a list of all the months in a year\n",
    "months_year = ['January', 'February', 'March', 'April', 'May', 'June', 'July', 'August', 'September', 'October', 'November', 'December']\n",
    "\n",
    "#Creating a copy of the list using slicing \n",
    "months_31 = months_year[:]  \n",
    "\n",
    "#Removing months with less than 31 days using index positions and pop\n",
    "#February\n",
    "months_31.pop(1)\n",
    "#April \n",
    "months_31.pop(2)   \n",
    "#June \n",
    "months_31.pop(3)   \n",
    "#September \n",
    "months_31.pop(5)   \n",
    "#November \n",
    "months_31.pop(6)   \n",
    "\n",
    "#Creating a copy of months_31 \n",
    "months_30Plus = months_31[:]  \n",
    "\n",
    "#Inserting April, June, September, and November at appropriate locations\n",
    "months_30Plus.insert(2, 'April')\n",
    "months_30Plus.insert(4, 'June')\n",
    "months_30Plus.insert(7, 'September')\n",
    "months_30Plus.insert(9, 'November')\n",
    "\n",
    "print(\"Months of the Year:\", months_year)\n",
    "print(\"Months with 31 Days:\", months_31)\n",
    "print(\"Months with 30+ Days (excluding February):\", months_30Plus)\n"
   ]
  },
  {
   "cell_type": "code",
   "execution_count": 47,
   "id": "467034e1-892e-4a9b-a917-83f116817c3e",
   "metadata": {},
   "outputs": [
    {
     "name": "stdout",
     "output_type": "stream",
     "text": [
      "Original list: ['Kashif Ali', 'Rehan Ahmed', 'Ali Abid']\n",
      "New list: ['Kashif Ali', 'Rehan Ahmed']\n"
     ]
    }
   ],
   "source": [
    "#list\n",
    "std_names = ['Kashif Ali', 'Rehan Ahmed', 'Ali Abid']\n",
    "\n",
    "#Creating a shallow copy and removing 'Ali Abid'\n",
    "std_names2 = std_names[:]\n",
    "std_names2.remove('Ali Abid')\n",
    "\n",
    "print(\"Original list:\", std_names)\n",
    "print(\"New list:\", std_names2)"
   ]
  },
  {
   "cell_type": "code",
   "execution_count": 69,
   "id": "da135afd-8c84-417c-b220-6ef2aac0f55b",
   "metadata": {},
   "outputs": [
    {
     "name": "stdout",
     "output_type": "stream",
     "text": [
      "['Jan', 'Feb', 'Mar', 'Apr', 'May']\n",
      "('Jan', 'Feb', 'Mar', 'Apr', 'May')\n",
      "['Jan', 'Feb', 'Mar', 'Apr', 'May', 'Jun']\n",
      "('Jan', 'Feb', 'Mar', 'Apr', 'May', 'Jun')\n",
      "['Jan', 'Feb', 'Mar', 'Apr', 'May']\n",
      "('Jan', 'Feb', 'Mar', 'Apr', 'May')\n",
      "['Jan', 'Mar', 'Apr', 'May']\n",
      "('Jan', 'Mar', 'Apr', 'May')\n",
      "['May', 'Apr', 'Mar', 'Jan']\n",
      "('May', 'Apr', 'Mar', 'Jan')\n",
      "['Apr', 'Jan', 'Mar', 'May']\n",
      "('Apr', 'Jan', 'Mar', 'May')\n"
     ]
    }
   ],
   "source": [
    "#MonthsL & MonthsT\n",
    "\n",
    "#List\n",
    "monthsL = ['Jan', 'Feb', 'Mar', 'May']  \n",
    "#Tuple\n",
    "monthsT = ('Jan', 'Feb', 'Mar', 'May')  \n",
    "\n",
    "#(a) Insert string 'Apr' between 'Mar' and 'May'.\n",
    "#For List\n",
    "monthsL.insert(3, 'Apr')  \n",
    "print(monthsL)  \n",
    "#For Tuple\n",
    "monthsT = monthsT[:3] + ('Apr',) + monthsT[3:]\n",
    "print(monthsT)\n",
    "#Remark : List is mutable so we applied .insert to add 'Apr' whereas Tuples are immutable so we couldn't have used .insert \n",
    "#instead we created a new tuple and added it to previously existing tuple and for positioning we used slicing \n",
    "\n",
    "#(b) Append string 'Jun'.\n",
    "#For List \n",
    "monthsL.append('Jun')  \n",
    "print(monthsL)  \n",
    "#For Tuple\n",
    "monthsT = monthsT + ('Jun',)\n",
    "print(monthsT)\n",
    "#Remark : List is mutable so we applied .append to add 'Jun' whereas Tuples are immutable so we couldn't have used .append\n",
    "#instead we created a new tuple and added it to previously existing tuple and since it had to go on the last index we didn't do anything more\n",
    "\n",
    "#(c) Pop the container.\n",
    "#For List\n",
    "monthsL.pop()  \n",
    "print(monthsL)  \n",
    "#For Tuple\n",
    "monthsT = monthsT[:5]\n",
    "print(monthsT)\n",
    "#Remark : List is mutable so we applied .pop to remove 'Jun' whereas Tuples are immutable so we couldn't have used .pop\n",
    "#instead we created a new tuple without the last element using the slicing method \n",
    "\n",
    "#(d) Remove the second item in the container.\n",
    "#For List \n",
    "monthsL.pop(1)\n",
    "print(monthsL)  \n",
    "#For Tuple\n",
    "monthsT = monthsT[:1] + monthsT[2:]\n",
    "print(monthsT) \n",
    "#Remark : List is mutable so we applied .pop to remove the 2nd item in the container whereas Tuples are immutable so we couldn't have used .pop\n",
    "#instead we created a new tuple using the slicing method in a way where the 2nd item in the container will be excluded and the rest will form a new tuple\n",
    "\n",
    "#(e) Reverse the order of items in the container.\n",
    "#For List \n",
    "monthsL.reverse() \n",
    "print(monthsL)  \n",
    "#For Tuple\n",
    "monthsT = list(monthsT)\n",
    "monthsT.reverse()\n",
    "monthsT = tuple(monthsT)\n",
    "print(monthsT)  \n",
    "#Remark : List is mutable so we applied .reverse to reverse the list whereas Tuples are immutable so we couldn't have used .reverse \n",
    "#instead we converted the tuple into a list and applied .reverse to reverse and then converted it back to a tuple \n",
    "\n",
    "#(f) Sort the container.\n",
    "#For List\n",
    "monthsL.sort()\n",
    "print(monthsL)\n",
    "#For Tuple\n",
    "monthsT = list(monthsT)\n",
    "monthsT.sort()\n",
    "monthsT = tuple(monthsT)\n",
    "print(monthsT)\n",
    "#Remark : List is mutable so we applied .sort to sort the list whereas Tuples are immutable so we couldn't have used .sort \n",
    "#instead we converted the tuple into a list and applied .sort to sort it and then converted it back to a tuple "
   ]
  },
  {
   "cell_type": "code",
   "execution_count": null,
   "id": "f5359f79-cf8b-44d4-a266-dc9249a55c70",
   "metadata": {},
   "outputs": [],
   "source": []
  }
 ],
 "metadata": {
  "kernelspec": {
   "display_name": "Python 3 (ipykernel)",
   "language": "python",
   "name": "python3"
  },
  "language_info": {
   "codemirror_mode": {
    "name": "ipython",
    "version": 3
   },
   "file_extension": ".py",
   "mimetype": "text/x-python",
   "name": "python",
   "nbconvert_exporter": "python",
   "pygments_lexer": "ipython3",
   "version": "3.12.4"
  }
 },
 "nbformat": 4,
 "nbformat_minor": 5
}
